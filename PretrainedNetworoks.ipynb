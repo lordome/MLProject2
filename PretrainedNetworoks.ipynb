{
 "cells": [
  {
   "cell_type": "code",
   "execution_count": 1,
   "id": "28b21d9e",
   "metadata": {
    "_cell_guid": "b1076dfc-b9ad-4769-8c92-a6c4dae69d19",
    "_uuid": "8f2839f25d086af736a60e9eeb907d3b93b6e0e5",
    "execution": {
     "iopub.execute_input": "2022-02-12T22:20:16.001765Z",
     "iopub.status.busy": "2022-02-12T22:20:16.000004Z",
     "iopub.status.idle": "2022-02-12T22:20:22.141641Z",
     "shell.execute_reply": "2022-02-12T22:20:22.140625Z",
     "shell.execute_reply.started": "2022-02-12T15:06:10.306276Z"
    },
    "papermill": {
     "duration": 6.165202,
     "end_time": "2022-02-12T22:20:22.141799",
     "exception": false,
     "start_time": "2022-02-12T22:20:15.976597",
     "status": "completed"
    },
    "tags": []
   },
   "outputs": [
    {
     "data": {
      "text/html": [
       "<style>.container { width:85% !important; }</style>"
      ],
      "text/plain": [
       "<IPython.core.display.HTML object>"
      ]
     },
     "metadata": {},
     "output_type": "display_data"
    }
   ],
   "source": [
    "#import cell for libraries\n",
    "import numpy as np\n",
    "import os\n",
    "import glob\n",
    "import pathlib\n",
    "from PIL import Image\n",
    "from tqdm import tqdm\n",
    "import pandas as pd\n",
    "import seaborn as sns\n",
    "import sklearn\n",
    "import pickle\n",
    "import matplotlib.pyplot as plt\n",
    "from sklearn.neural_network import MLPClassifier\n",
    "from sklearn.model_selection import train_test_split\n",
    "from sklearn.decomposition import PCA\n",
    "\n",
    "from matplotlib.colors import LogNorm, Normalize\n",
    "\n",
    "from IPython.display import display, HTML\n",
    "from IPython.core.display import display, HTML\n",
    "display(HTML(\"<style>.container { width:85% !important; }</style>\"))\n",
    "\n",
    "from tensorflow import keras\n",
    "import tensorflow as tf\n",
    "from tensorflow.keras import layers\n",
    "from tensorflow.keras.layers import Conv1D, MaxPooling1D, AveragePooling1D\n",
    "from tensorflow.keras.utils import to_categorical\n",
    "from tensorflow.keras import regularizers\n",
    "\n",
    "#tensorflow\n",
    "import tensorflow as tf\n",
    "from tensorflow.keras import Sequential\n",
    "from tensorflow.keras import layers\n",
    "from tensorflow.keras.callbacks import EarlyStopping, ReduceLROnPlateau\n",
    "from tensorflow.keras.utils import to_categorical\n",
    "from tensorflow.keras.preprocessing.image import ImageDataGenerator\n",
    "from tensorflow.keras.applications.vgg16 import VGG16\n",
    "from tensorflow.keras import optimizers\n",
    "from tensorflow.keras.optimizers import Adam\n",
    "from tensorflow.keras.applications.vgg16 import preprocess_input\n",
    "from tensorflow.keras.models import load_model"
   ]
  },
  {
   "cell_type": "code",
   "execution_count": 2,
   "id": "32efd6a3",
   "metadata": {
    "execution": {
     "iopub.execute_input": "2022-02-12T22:20:22.188922Z",
     "iopub.status.busy": "2022-02-12T22:20:22.188092Z",
     "iopub.status.idle": "2022-02-12T22:20:22.208384Z",
     "shell.execute_reply": "2022-02-12T22:20:22.207924Z",
     "shell.execute_reply.started": "2022-02-12T15:06:18.063679Z"
    },
    "papermill": {
     "duration": 0.046436,
     "end_time": "2022-02-12T22:20:22.208504",
     "exception": false,
     "start_time": "2022-02-12T22:20:22.162068",
     "status": "completed"
    },
    "tags": []
   },
   "outputs": [],
   "source": [
    "def get_path(Id,df):\n",
    "    \"\"\"Input: row number of the dataframe\n",
    "       Returns the filepath for the corresponding image\"\"\"\n",
    "    \n",
    "    #get path from dataframe\n",
    "    path2 = df.loc[Id][\"filepaths\"]\n",
    "    \n",
    "    #return the path\n",
    "    return path2\n",
    "\n",
    "def get_image(Id,df,x=224,y=224):\n",
    "    \"\"\"Returns image of a given row of the birds dataframe\"\"\"\n",
    "    #get initial path to all data\n",
    "    path1 = \"kaggle/input/inputbirds/\"\n",
    "    \n",
    "    #call fet_path function\n",
    "    path2 = get_path(Id,df)\n",
    "    \n",
    "    #read image of the path1+path2 and return it\n",
    "    return Image.open(path1+path2).resize((x,y))\n",
    "\n",
    "def get_input_NN(Id,df,gray = False):\n",
    "    \"\"\"Return a 3D matrix of image ready to be read in the CNN\"\"\"\n",
    "    \n",
    "    #call fet_image function to read image\n",
    "    im = get_image(Id,df)\n",
    "    \n",
    "    #transform iamge to RGB format\n",
    "    rgb_im = im.convert('RGB')\n",
    "    \n",
    "    if gray:\n",
    "        g_im = rgb_im.convert('L')\n",
    "        input_NN = asarray(g_im)\n",
    "                \n",
    "    else:\n",
    "    \n",
    "        #Empty zeros matrix to be filled with pixel values of the image\n",
    "        input_NN = np.zeros((3,224,224))\n",
    "\n",
    "        #fill up the matrix with RGB values at each point\n",
    "        for x in range(224):\n",
    "            for y in range(224):\n",
    "                r, g, b = rgb_im.getpixel((x,y))\n",
    "                input_NN[0,x,y] = r\n",
    "                input_NN[1,x,y] = g\n",
    "                input_NN[2,x,y] = b\n",
    "\n",
    "    #returns the 3D matrix a s a numpy array\n",
    "    return input_NN\n",
    "\n",
    "\n",
    "def show_image(Id,inputs):\n",
    "    \"\"\"Print image from Id of image in the input array\"\"\"\n",
    "    im = plt.imshow(inputs[Id].astype('uint8'))\n",
    "\n",
    "\n",
    "\n",
    "def get_class_dict():\n",
    "    \"\"\"Return dictionary of classes of each target\"\"\"\n",
    "\n",
    "    class_dict_df = pd.read_csv(\"/kaggle/input/inputbirds/class_dict.csv\")\n",
    "    class_dict = {}\n",
    "    for row in range(len(class_dict_df)):\n",
    "        class_dict[class_dict_df.iloc[row][1]] = class_dict_df.iloc[row][0]\n",
    "    return class_dict\n",
    "\n",
    "\n",
    "\n",
    "def CNNDefinition(fil, k_size,  Poolsize, dense, \n",
    "                  input_shape, N_categ ,  loss = 'categorical_crossentropy',  \n",
    "                  metrics = ['accuracy'], last_act = \"softmax\", lmb = 0.01, eta = 0.001):\n",
    "    \"\"\"\n",
    "    This CNNDefinition function allows the definition of a CNN network. The Network defined can be exploited for both \n",
    "    a regression and for a classification task.\n",
    "    \n",
    "    Parameters ---\n",
    "    fil : list of the number of filters per each convolutional layer,\n",
    "    k_size : dimension of the kernels related to each convolutional layer,\n",
    "    Poolsize : dimension of the pooling layer applied after each convolutional one,\n",
    "    dense : list of dimensions of dense layers applied after the convolutional step, \n",
    "    input_shape :  dimension of the input data , \n",
    "    N_categ : number of categories in the classification task (has to be set at 1 for regression),\n",
    "    loss = 'categorical_crossentropy',  \n",
    "    metrics = ['accuracy'], \n",
    "    last_act : default = \"sigmoid\", ok for classification. Has to be changed for regression\n",
    "    \"\"\"\n",
    "    \n",
    "    model = keras.Sequential()    \n",
    "    model.add(layers.Conv2D(filters = fil[0], kernel_size = k_size[0],\n",
    "                            padding = \"same\",\n",
    "                            activation = \"relu\",\n",
    "                            #strides = 2,\n",
    "                            input_shape = input_shape,\n",
    "                            kernel_regularizer=regularizers.l2(lmb)\n",
    "                            ))\n",
    "    model.add(layers.MaxPooling2D(Poolsize[0]))\n",
    "    model.add(layers.BatchNormalization())\n",
    "    model.add(layers.SpatialDropout2D(0.3))\n",
    "\n",
    "    for i in range(1,len(fil)):\n",
    "        model.add(layers.Conv2D(filters = fil[i], kernel_size = k_size[i],\n",
    "                                padding = \"same\", activation = \"relu\",kernel_regularizer=regularizers.l2(lmb)))\n",
    "        model.add(layers.BatchNormalization())\n",
    "\n",
    "        model.add(layers.MaxPooling2D(Poolsize[i]))\n",
    "        model.add(layers.SpatialDropout2D(0.3))\n",
    "\n",
    "\n",
    "    model.add(layers.Flatten())\n",
    "    for i in range(len(dense)):\n",
    "        model.add(layers.Dense(dense[i],activation=\"relu\",kernel_regularizer=regularizers.l2(lmb)))\n",
    "\n",
    "    #model.add(layers.Dropout(0.2))\n",
    "    model.add(layers.Dense(N_categ, activation= last_act))\n",
    "\n",
    "    print(model.summary())\n",
    "\n",
    "    #default optimizer is Adam, different learning rates affect the time the network takes to converge.\n",
    "    \n",
    "    #try different alogrithms and learning rates\n",
    "    optimizer = keras.optimizers.Adam()\n",
    "    #optimizer = keras.optimizers.SGD(lr=eta)\n",
    "    \n",
    "    optimizer.learning_rate.assign(eta)\n",
    "\n",
    "    model.compile(\n",
    "        optimizer = optimizer, \n",
    "        loss = loss, \n",
    "        metrics = metrics\n",
    "    )\n",
    "\n",
    "    return model\n",
    "\n",
    "\n",
    "\n",
    "def Fit(model, X_train, Y_train, X_test, Y_test, pat = 100, mindelta = 0.01, batch = 64, epochs = 1200, verb = 1):\n",
    "    \n",
    "    '''\n",
    "    Fit function for fitting the model. Training and test data are specified as parameters; \n",
    "    EarlyStopping is introduced to avoid overfitting.\n",
    "    The function returns a dataframe containing the history of the training. The values of the accuracy and the different \n",
    "    epochs can be then inferred from such a returned quantity.\n",
    "    \n",
    "    Parameters ---\n",
    "    model : model to be fit,\n",
    "    X_train : train features,\n",
    "    Y_train : train targets,\n",
    "    X_test : test features,\n",
    "    Y_test : test features,\n",
    "    pat : default = 100, patience for the EarlyStopping, \n",
    "    mindelta : default = 0.01, mindelta in EarlyStopping, \n",
    "    batch : default = 64, batch size while fitting, \n",
    "    epochs : default = 1200, number of epochs for training,  \n",
    "    verb = 1):\n",
    "    '''\n",
    "\n",
    "    early_stopping = keras.callbacks.EarlyStopping(\n",
    "        patience = pat,\n",
    "        min_delta = mindelta,\n",
    "        restore_best_weights=True,\n",
    "    )\n",
    "\n",
    "    history = model.fit(\n",
    "        X_train, Y_train,\n",
    "        validation_data=(X_test, Y_test),\n",
    "        batch_size = batch,\n",
    "        epochs = epochs,\n",
    "        callbacks=[early_stopping],\n",
    "        verbose=verb, # hide the output because we have so many epochs\n",
    "    )\n",
    "    return pd.DataFrame(history.history)\n",
    "\n",
    "\n",
    "def Fit_automatic(model, train, test, pat = 100, mindelta = 0.01, batch = 64, epochs = 1200, verb = 1):\n",
    "    \n",
    "    early_stopping = keras.callbacks.EarlyStopping(\n",
    "        patience = pat,\n",
    "        min_delta = mindelta,\n",
    "        restore_best_weights=True,\n",
    "    )\n",
    "\n",
    "    history = model.fit(\n",
    "        train,\n",
    "        validation_data=test,\n",
    "        batch_size = batch,\n",
    "        epochs = epochs,\n",
    "        callbacks=[early_stopping],\n",
    "        verbose=verb, # hide the output because we have so many epochs\n",
    "    )\n",
    "    return pd.DataFrame(history.history)"
   ]
  },
  {
   "cell_type": "markdown",
   "id": "e1024b35",
   "metadata": {
    "papermill": {
     "duration": 0.017827,
     "end_time": "2022-02-12T22:20:22.244565",
     "exception": false,
     "start_time": "2022-02-12T22:20:22.226738",
     "status": "completed"
    },
    "tags": []
   },
   "source": [
    "### Load File"
   ]
  },
  {
   "cell_type": "code",
   "execution_count": 3,
   "id": "12f088ed",
   "metadata": {
    "execution": {
     "iopub.execute_input": "2022-02-12T22:20:22.284168Z",
     "iopub.status.busy": "2022-02-12T22:20:22.283588Z",
     "iopub.status.idle": "2022-02-12T22:20:22.286420Z",
     "shell.execute_reply": "2022-02-12T22:20:22.285960Z",
     "shell.execute_reply.started": "2022-02-11T15:21:13.480994Z"
    },
    "papermill": {
     "duration": 0.02385,
     "end_time": "2022-02-12T22:20:22.286527",
     "exception": false,
     "start_time": "2022-02-12T22:20:22.262677",
     "status": "completed"
    },
    "tags": []
   },
   "outputs": [],
   "source": [
    "# inputs = pickle.load(open('../input/inputbirds/inputs_56_56.pkl', 'rb'))"
   ]
  },
  {
   "cell_type": "code",
   "execution_count": 4,
   "id": "a46d9240",
   "metadata": {
    "execution": {
     "iopub.execute_input": "2022-02-12T22:20:22.326185Z",
     "iopub.status.busy": "2022-02-12T22:20:22.325244Z",
     "iopub.status.idle": "2022-02-12T22:20:22.327184Z",
     "shell.execute_reply": "2022-02-12T22:20:22.327596Z",
     "shell.execute_reply.started": "2022-02-11T15:21:13.48751Z"
    },
    "papermill": {
     "duration": 0.023575,
     "end_time": "2022-02-12T22:20:22.327717",
     "exception": false,
     "start_time": "2022-02-12T22:20:22.304142",
     "status": "completed"
    },
    "tags": []
   },
   "outputs": [],
   "source": [
    "# label_list = list(birds.labels.unique())\n",
    "# sub_label_list = label_list[0:20]\n",
    "# birds_20 = birds[birds[\"labels\"].isin(sub_label_list)]\n",
    "\n",
    "# train_20 = birds_20[birds_20[\"data set\"].isin(['train'])]\n",
    "# train_20\n",
    "\n",
    "# inputs = np.zeros((len(train_20),224,224,3))\n",
    "# key_list = list(train_20.index)\n",
    "# n = 0\n",
    "# for Id in tqdm(key_list):\n",
    "#     try:\n",
    "#         input_NN = get_input_NN(Id,train_20)\n",
    "#         inputs[n] = input_NN.T\n",
    "#     except: \n",
    "#         continue\n",
    "#     n+=1\n",
    "    \n",
    "# a_file = open(\"inputs.pkl\", \"wb\")\n",
    "# pickle.dump(inputs, a_file)\n",
    "# a_file.close()"
   ]
  },
  {
   "cell_type": "code",
   "execution_count": 5,
   "id": "c2abb346",
   "metadata": {
    "execution": {
     "iopub.execute_input": "2022-02-12T22:20:22.368261Z",
     "iopub.status.busy": "2022-02-12T22:20:22.367655Z",
     "iopub.status.idle": "2022-02-12T22:20:22.370268Z",
     "shell.execute_reply": "2022-02-12T22:20:22.369777Z",
     "shell.execute_reply.started": "2022-02-11T15:21:13.497562Z"
    },
    "papermill": {
     "duration": 0.024107,
     "end_time": "2022-02-12T22:20:22.370394",
     "exception": false,
     "start_time": "2022-02-12T22:20:22.346287",
     "status": "completed"
    },
    "tags": []
   },
   "outputs": [],
   "source": [
    "# birds = pd.read_csv(\"/kaggle/input/inputbirds/birds.csv\")\n",
    "# label_list = list(birds.labels.unique())\n",
    "# sub_label_list = label_list[0:20]\n",
    "# birds_20 = birds[birds[\"labels\"].isin(sub_label_list)]\n",
    "\n",
    "# train_20 = birds_20[birds_20[\"data set\"] == \"train\"]\n",
    "\n",
    "# class_dict = get_class_dict()\n",
    "# labels = np.zeros((2987))\n",
    "# for label in range(len(train_20)):\n",
    "#     labels[label] = class_dict[train_20.iloc[label][1]]\n",
    "    \n",
    "# inputs = pickle.load(open(\"/kaggle/input/inputbirds/inputs_56_56.pkl\", \"rb\"))\n",
    "# inputs = inputs/255\n",
    "\n",
    "# train_size = 0.8\n",
    "# test_size = 1 - train_size\n",
    "# X_train, X_test, Y_train, Y_test = train_test_split(inputs, labels,  train_size=train_size,\n",
    "#                                                     test_size=test_size)\n",
    "\n",
    "# Y_train = to_categorical(Y_train)\n",
    "# Y_test = to_categorical(Y_test)\n",
    "# input_shape = inputs[0].shape"
   ]
  },
  {
   "cell_type": "code",
   "execution_count": 6,
   "id": "f905582c",
   "metadata": {
    "execution": {
     "iopub.execute_input": "2022-02-12T22:20:22.408988Z",
     "iopub.status.busy": "2022-02-12T22:20:22.408180Z",
     "iopub.status.idle": "2022-02-12T22:20:22.411311Z",
     "shell.execute_reply": "2022-02-12T22:20:22.411697Z",
     "shell.execute_reply.started": "2022-02-11T15:21:13.508301Z"
    },
    "papermill": {
     "duration": 0.023405,
     "end_time": "2022-02-12T22:20:22.411813",
     "exception": false,
     "start_time": "2022-02-12T22:20:22.388408",
     "status": "completed"
    },
    "tags": []
   },
   "outputs": [],
   "source": [
    "# l_fil = [20,20]\n",
    "# l_ker = [[4,4], [3,3]]\n",
    "# l_pool = [3,2]\n",
    "# l_dense = []\n",
    "\n",
    "# # model = CNNDefinition(l_fil, l_ker, l_pool, l_dense, (56, 56, 3), 20)"
   ]
  },
  {
   "cell_type": "code",
   "execution_count": 7,
   "id": "7c758ed9",
   "metadata": {
    "execution": {
     "iopub.execute_input": "2022-02-12T22:20:22.450634Z",
     "iopub.status.busy": "2022-02-12T22:20:22.449829Z",
     "iopub.status.idle": "2022-02-12T22:20:22.453189Z",
     "shell.execute_reply": "2022-02-12T22:20:22.452784Z",
     "shell.execute_reply.started": "2022-02-11T15:21:13.517033Z"
    },
    "papermill": {
     "duration": 0.023534,
     "end_time": "2022-02-12T22:20:22.453288",
     "exception": false,
     "start_time": "2022-02-12T22:20:22.429754",
     "status": "completed"
    },
    "tags": []
   },
   "outputs": [],
   "source": [
    "# history = Fit(model, X_train, Y_train, X_test, Y_test, epochs = 10)"
   ]
  },
  {
   "cell_type": "code",
   "execution_count": 8,
   "id": "532d094b",
   "metadata": {
    "execution": {
     "iopub.execute_input": "2022-02-12T22:20:22.491593Z",
     "iopub.status.busy": "2022-02-12T22:20:22.490805Z",
     "iopub.status.idle": "2022-02-12T22:20:22.494461Z",
     "shell.execute_reply": "2022-02-12T22:20:22.494831Z",
     "shell.execute_reply.started": "2022-02-11T15:21:13.524641Z"
    },
    "papermill": {
     "duration": 0.023981,
     "end_time": "2022-02-12T22:20:22.494977",
     "exception": false,
     "start_time": "2022-02-12T22:20:22.470996",
     "status": "completed"
    },
    "tags": []
   },
   "outputs": [],
   "source": [
    "# datagen_vgg = ImageDataGenerator() \n",
    "# #\n",
    "# train_generator_vgg = datagen_vgg.flow_from_directory('/kaggle/input/100-bird-species/train',\n",
    "#                                                       batch_size=128,\n",
    "#                                                       target_size=(224,224),\n",
    "#                                                       class_mode='categorical')\n",
    "# #\n",
    "# validation_generator_vgg = datagen_vgg.flow_from_directory('/kaggle/input/100-bird-species/valid',\n",
    "#                                                            batch_size=128,\n",
    "#                                                            target_size=(224,224),\n",
    "#                                                            class_mode='categorical')\n"
   ]
  },
  {
   "cell_type": "code",
   "execution_count": 9,
   "id": "ddfe7734",
   "metadata": {
    "execution": {
     "iopub.execute_input": "2022-02-12T22:20:22.535527Z",
     "iopub.status.busy": "2022-02-12T22:20:22.534689Z",
     "iopub.status.idle": "2022-02-12T22:20:22.537172Z",
     "shell.execute_reply": "2022-02-12T22:20:22.536753Z",
     "shell.execute_reply.started": "2022-02-11T15:21:13.533204Z"
    },
    "papermill": {
     "duration": 0.024528,
     "end_time": "2022-02-12T22:20:22.537267",
     "exception": false,
     "start_time": "2022-02-12T22:20:22.512739",
     "status": "completed"
    },
    "tags": []
   },
   "outputs": [],
   "source": [
    "# history = Fit_automatic(model, train_generator_vgg, validation_generator_vgg, epochs = 400, batch = 128)"
   ]
  },
  {
   "cell_type": "code",
   "execution_count": 10,
   "id": "25622644",
   "metadata": {
    "execution": {
     "iopub.execute_input": "2022-02-12T22:20:22.576452Z",
     "iopub.status.busy": "2022-02-12T22:20:22.575523Z",
     "iopub.status.idle": "2022-02-12T22:20:22.577375Z",
     "shell.execute_reply": "2022-02-12T22:20:22.577810Z",
     "shell.execute_reply.started": "2022-02-11T15:21:13.544036Z"
    },
    "papermill": {
     "duration": 0.022953,
     "end_time": "2022-02-12T22:20:22.577930",
     "exception": false,
     "start_time": "2022-02-12T22:20:22.554977",
     "status": "completed"
    },
    "tags": []
   },
   "outputs": [],
   "source": [
    "# plt.plot(history.accuracy)\n",
    "# plt.plot(history.val_accuracy)\n",
    "# plt.show()"
   ]
  },
  {
   "cell_type": "code",
   "execution_count": null,
   "id": "c81be9bb",
   "metadata": {
    "papermill": {
     "duration": 0.018044,
     "end_time": "2022-02-12T22:20:22.613563",
     "exception": false,
     "start_time": "2022-02-12T22:20:22.595519",
     "status": "completed"
    },
    "tags": []
   },
   "outputs": [],
   "source": []
  },
  {
   "cell_type": "code",
   "execution_count": 11,
   "id": "26b84672",
   "metadata": {
    "execution": {
     "iopub.execute_input": "2022-02-12T22:20:22.653136Z",
     "iopub.status.busy": "2022-02-12T22:20:22.652506Z",
     "iopub.status.idle": "2022-02-12T22:20:22.654703Z",
     "shell.execute_reply": "2022-02-12T22:20:22.655147Z",
     "shell.execute_reply.started": "2022-02-11T15:21:13.553038Z"
    },
    "papermill": {
     "duration": 0.024001,
     "end_time": "2022-02-12T22:20:22.655272",
     "exception": false,
     "start_time": "2022-02-12T22:20:22.631271",
     "status": "completed"
    },
    "tags": []
   },
   "outputs": [],
   "source": [
    "# datagen_vgg = ImageDataGenerator() \n",
    "# #\n",
    "# train_generator_vgg = datagen_vgg.flow_from_directory('/kaggle/input/100-bird-species/train',\n",
    "#                                                       batch_size=256,\n",
    "#                                                       target_size=(224,224),\n",
    "#                                                       class_mode='categorical')\n",
    "# #\n",
    "# validation_generator_vgg = datagen_vgg.flow_from_directory('/kaggle/input/100-bird-species/valid',\n",
    "#                                                            batch_size=256,\n",
    "#                                                            target_size=(224,224),\n",
    "#                                                            class_mode='categorical')\n",
    "\n",
    "# l_fil = [20,10,]\n",
    "# l_ker = [[4,4], [3,3]]\n",
    "# l_pool = [3,4,]\n",
    "# l_dense = []\n",
    "\n",
    "# model = CNNDefinition(l_fil, l_ker, l_pool, l_dense, data_pca.shape[1:4], Y_train.shape[1],)\n",
    "\n",
    "\n",
    "# history = Fit_automatic(model_total, train = train_generator_vgg,\n",
    "#                             epochs=200,\n",
    "#                             batch = 256,\n",
    "#                             test=validation_generator_vgg,\n",
    "#                             )"
   ]
  },
  {
   "cell_type": "code",
   "execution_count": null,
   "id": "cefd97f7",
   "metadata": {
    "execution": {
     "iopub.execute_input": "2022-02-11T15:26:55.796531Z",
     "iopub.status.busy": "2022-02-11T15:26:55.79604Z",
     "iopub.status.idle": "2022-02-11T15:26:55.835053Z",
     "shell.execute_reply": "2022-02-11T15:26:55.833244Z",
     "shell.execute_reply.started": "2022-02-11T15:26:55.796487Z"
    },
    "papermill": {
     "duration": 0.0179,
     "end_time": "2022-02-12T22:20:22.690843",
     "exception": false,
     "start_time": "2022-02-12T22:20:22.672943",
     "status": "completed"
    },
    "tags": []
   },
   "outputs": [],
   "source": []
  },
  {
   "cell_type": "code",
   "execution_count": 12,
   "id": "70f6b4f6",
   "metadata": {
    "execution": {
     "iopub.execute_input": "2022-02-12T22:20:22.733130Z",
     "iopub.status.busy": "2022-02-12T22:20:22.732603Z",
     "iopub.status.idle": "2022-02-12T22:20:38.371862Z",
     "shell.execute_reply": "2022-02-12T22:20:38.371104Z",
     "shell.execute_reply.started": "2022-02-12T15:06:18.106285Z"
    },
    "papermill": {
     "duration": 15.66338,
     "end_time": "2022-02-12T22:20:38.372003",
     "exception": false,
     "start_time": "2022-02-12T22:20:22.708623",
     "status": "completed"
    },
    "tags": []
   },
   "outputs": [],
   "source": [
    "train=\"../input/100-bird-species/train\"\n",
    "test=\"../input/100-bird-species/test\"\n",
    "valid=\"../input/100-bird-species/valid\"\n",
    "\n",
    "\n",
    "def process(data):\n",
    "    path=pathlib.Path(data)#converting the string to path\n",
    "    filepaths=list(path.glob(r\"*/*.jpg\"))#Going through all the subpaths \n",
    "    labels=list(map(lambda x: os.path.split(os.path.split(x)[0])[1],filepaths))#Separating the label from filepath and storing it\n",
    "    df1=pd.Series(filepaths,name='filepaths').astype(str)\n",
    "    df2=pd.Series(labels,name='labels')\n",
    "    df=pd.concat([df1,df2],axis=1)#Making the dataframe\n",
    "    return df\n",
    "\n",
    "\n",
    "\n",
    "df_train=process(train)\n",
    "df_test=process(test)\n",
    "df_valid=process(valid)"
   ]
  },
  {
   "cell_type": "code",
   "execution_count": 13,
   "id": "a3dd2c28",
   "metadata": {
    "execution": {
     "iopub.execute_input": "2022-02-12T22:20:38.429809Z",
     "iopub.status.busy": "2022-02-12T22:20:38.424595Z",
     "iopub.status.idle": "2022-02-12T22:20:59.735682Z",
     "shell.execute_reply": "2022-02-12T22:20:59.736195Z",
     "shell.execute_reply.started": "2022-02-12T15:06:26.199677Z"
    },
    "papermill": {
     "duration": 21.34602,
     "end_time": "2022-02-12T22:20:59.736363",
     "exception": false,
     "start_time": "2022-02-12T22:20:38.390343",
     "status": "completed"
    },
    "tags": []
   },
   "outputs": [
    {
     "name": "stdout",
     "output_type": "stream",
     "text": [
      "Found 54652 validated image filenames belonging to 375 classes.\n",
      "Found 1875 validated image filenames belonging to 375 classes.\n",
      "Found 1875 validated image filenames belonging to 375 classes.\n"
     ]
    }
   ],
   "source": [
    "#datagen = ImageDataGenerator(preprocessing_function=preprocess_input, zoom_range = (0.8, 1.2)) \n",
    "##\n",
    "#train_generator = datagen.flow_from_directory('/kaggle/input/100-bird-species/train',\n",
    "#                                                      batch_size=256,\n",
    "#                                                      target_size=(224,224),\n",
    "#                                                      class_mode='categorical')\n",
    "##\n",
    "#validation_generator = datagen.flow_from_directory('/kaggle/input/100-bird-species/valid',\n",
    "#                                                           batch_size=256,\n",
    "#                                                           target_size=(224,224),\n",
    "#                                                           class_mode='categorical')\n",
    "#\n",
    "\n",
    "train_generator=ImageDataGenerator( preprocessing_function=preprocess_input)\n",
    "test_generator=ImageDataGenerator( preprocessing_function=preprocess_input)\n",
    "valid_generator=ImageDataGenerator( preprocessing_function=preprocess_input)\n",
    "\n",
    "train_image=train_generator.flow_from_dataframe(dataframe=df_train,\n",
    "                                                x_col='filepaths',\n",
    "                                                y_col='labels',\n",
    "                                                target_size=(224,224),\n",
    "                                                batch_size=16,\n",
    "                                                subset='training',\n",
    "                                                random_seed=42)\n",
    "\n",
    "test_image = test_generator.flow_from_dataframe(\n",
    "    dataframe=df_test,\n",
    "    x_col='filepaths',\n",
    "    y_col='labels',\n",
    "    target_size=(224,224),\n",
    "    batch_size=32\n",
    ")\n",
    "\n",
    "valid_image = test_generator.flow_from_dataframe(\n",
    "    dataframe=df_valid,\n",
    "    x_col='filepaths',\n",
    "    y_col='labels',\n",
    "    subset='training',\n",
    "    target_size=(224,224),\n",
    "    batch_size=32)"
   ]
  },
  {
   "cell_type": "code",
   "execution_count": 14,
   "id": "bfa1f669",
   "metadata": {
    "execution": {
     "iopub.execute_input": "2022-02-12T22:20:59.782077Z",
     "iopub.status.busy": "2022-02-12T22:20:59.781579Z",
     "iopub.status.idle": "2022-02-12T22:21:04.385575Z",
     "shell.execute_reply": "2022-02-12T22:21:04.385973Z",
     "shell.execute_reply.started": "2022-02-12T15:06:50.951758Z"
    },
    "papermill": {
     "duration": 4.630912,
     "end_time": "2022-02-12T22:21:04.386123",
     "exception": false,
     "start_time": "2022-02-12T22:20:59.755211",
     "status": "completed"
    },
    "tags": []
   },
   "outputs": [
    {
     "name": "stderr",
     "output_type": "stream",
     "text": [
      "2022-02-12 22:20:59.868187: I tensorflow/stream_executor/cuda/cuda_gpu_executor.cc:937] successful NUMA node read from SysFS had negative value (-1), but there must be at least one NUMA node, so returning NUMA node zero\n",
      "2022-02-12 22:21:00.056606: I tensorflow/stream_executor/cuda/cuda_gpu_executor.cc:937] successful NUMA node read from SysFS had negative value (-1), but there must be at least one NUMA node, so returning NUMA node zero\n",
      "2022-02-12 22:21:00.057500: I tensorflow/stream_executor/cuda/cuda_gpu_executor.cc:937] successful NUMA node read from SysFS had negative value (-1), but there must be at least one NUMA node, so returning NUMA node zero\n",
      "2022-02-12 22:21:00.059260: I tensorflow/core/platform/cpu_feature_guard.cc:142] This TensorFlow binary is optimized with oneAPI Deep Neural Network Library (oneDNN) to use the following CPU instructions in performance-critical operations:  AVX2 AVX512F FMA\n",
      "To enable them in other operations, rebuild TensorFlow with the appropriate compiler flags.\n",
      "2022-02-12 22:21:00.060400: I tensorflow/stream_executor/cuda/cuda_gpu_executor.cc:937] successful NUMA node read from SysFS had negative value (-1), but there must be at least one NUMA node, so returning NUMA node zero\n",
      "2022-02-12 22:21:00.061282: I tensorflow/stream_executor/cuda/cuda_gpu_executor.cc:937] successful NUMA node read from SysFS had negative value (-1), but there must be at least one NUMA node, so returning NUMA node zero\n",
      "2022-02-12 22:21:00.062148: I tensorflow/stream_executor/cuda/cuda_gpu_executor.cc:937] successful NUMA node read from SysFS had negative value (-1), but there must be at least one NUMA node, so returning NUMA node zero\n",
      "2022-02-12 22:21:01.924373: I tensorflow/stream_executor/cuda/cuda_gpu_executor.cc:937] successful NUMA node read from SysFS had negative value (-1), but there must be at least one NUMA node, so returning NUMA node zero\n",
      "2022-02-12 22:21:01.925168: I tensorflow/stream_executor/cuda/cuda_gpu_executor.cc:937] successful NUMA node read from SysFS had negative value (-1), but there must be at least one NUMA node, so returning NUMA node zero\n",
      "2022-02-12 22:21:01.925844: I tensorflow/stream_executor/cuda/cuda_gpu_executor.cc:937] successful NUMA node read from SysFS had negative value (-1), but there must be at least one NUMA node, so returning NUMA node zero\n",
      "2022-02-12 22:21:01.926429: I tensorflow/core/common_runtime/gpu/gpu_device.cc:1510] Created device /job:localhost/replica:0/task:0/device:GPU:0 with 15403 MB memory:  -> device: 0, name: Tesla P100-PCIE-16GB, pci bus id: 0000:00:04.0, compute capability: 6.0\n"
     ]
    },
    {
     "name": "stdout",
     "output_type": "stream",
     "text": [
      "Downloading data from https://storage.googleapis.com/tensorflow/keras-applications/vgg16/vgg16_weights_tf_dim_ordering_tf_kernels_notop.h5\n",
      "58892288/58889256 [==============================] - 1s 0us/step\n",
      "58900480/58889256 [==============================] - 1s 0us/step\n",
      "Model: \"sequential\"\n",
      "_________________________________________________________________\n",
      "Layer (type)                 Output Shape              Param #   \n",
      "=================================================================\n",
      "vgg16 (Functional)           (None, 7, 7, 512)         14714688  \n",
      "_________________________________________________________________\n",
      "flatten (Flatten)            (None, 25088)             0         \n",
      "_________________________________________________________________\n",
      "dropout (Dropout)            (None, 25088)             0         \n",
      "_________________________________________________________________\n",
      "dense (Dense)                (None, 375)               9408375   \n",
      "=================================================================\n",
      "Total params: 24,123,063\n",
      "Trainable params: 9,408,375\n",
      "Non-trainable params: 14,714,688\n",
      "_________________________________________________________________\n"
     ]
    }
   ],
   "source": [
    "model_VGG = VGG16(include_top=False, weights='imagenet', input_shape=(224, 224, 3))\n",
    "model_VGG.trainable = False\n",
    "\n",
    "#model_VGG.summary()\n",
    "flattening_layer = layers.Flatten()\n",
    "dout_layer = layers.Dropout(0.4)\n",
    "bnor_layer = layers.BatchNormalization()\n",
    "last_layer = layers.Dense(375, activation='softmax')\n",
    "\n",
    "model_total = Sequential([model_VGG, flattening_layer, dout_layer, last_layer])\n",
    "\n",
    "model_total.summary()\n",
    "\n",
    "model_total.compile(optimizer='adam',\n",
    "                  loss='categorical_crossentropy',\n",
    "                  metrics=\"accuracy\")"
   ]
  },
  {
   "cell_type": "code",
   "execution_count": 15,
   "id": "0ee8a709",
   "metadata": {
    "execution": {
     "iopub.execute_input": "2022-02-12T22:21:04.437668Z",
     "iopub.status.busy": "2022-02-12T22:21:04.436819Z",
     "iopub.status.idle": "2022-02-12T23:10:20.803682Z",
     "shell.execute_reply": "2022-02-12T23:10:20.803133Z",
     "shell.execute_reply.started": "2022-02-12T15:06:55.048739Z"
    },
    "papermill": {
     "duration": 2956.394354,
     "end_time": "2022-02-12T23:10:20.803825",
     "exception": false,
     "start_time": "2022-02-12T22:21:04.409471",
     "status": "completed"
    },
    "tags": []
   },
   "outputs": [
    {
     "name": "stderr",
     "output_type": "stream",
     "text": [
      "2022-02-12 22:21:04.620167: I tensorflow/compiler/mlir/mlir_graph_optimization_pass.cc:185] None of the MLIR Optimization Passes are enabled (registered 2)\n"
     ]
    },
    {
     "name": "stdout",
     "output_type": "stream",
     "text": [
      "Epoch 1/15\n"
     ]
    },
    {
     "name": "stderr",
     "output_type": "stream",
     "text": [
      "2022-02-12 22:21:06.185835: I tensorflow/stream_executor/cuda/cuda_dnn.cc:369] Loaded cuDNN version 8005\n"
     ]
    },
    {
     "name": "stdout",
     "output_type": "stream",
     "text": [
      "3416/3416 [==============================] - 394s 113ms/step - loss: 69.1321 - accuracy: 0.5713 - val_loss: 33.4131 - val_accuracy: 0.8224\n",
      "Epoch 2/15\n",
      "3416/3416 [==============================] - 174s 51ms/step - loss: 22.6525 - accuracy: 0.8696 - val_loss: 34.6616 - val_accuracy: 0.8491\n",
      "Epoch 3/15\n",
      "3416/3416 [==============================] - 175s 51ms/step - loss: 16.3215 - accuracy: 0.9105 - val_loss: 38.3717 - val_accuracy: 0.8533\n",
      "Epoch 4/15\n",
      "3416/3416 [==============================] - 177s 52ms/step - loss: 12.5071 - accuracy: 0.9333 - val_loss: 38.8952 - val_accuracy: 0.8741\n",
      "Epoch 5/15\n",
      "3416/3416 [==============================] - 179s 52ms/step - loss: 10.6516 - accuracy: 0.9457 - val_loss: 39.6652 - val_accuracy: 0.8779\n",
      "Epoch 6/15\n",
      "3416/3416 [==============================] - 179s 52ms/step - loss: 8.0819 - accuracy: 0.9580 - val_loss: 41.7413 - val_accuracy: 0.8837\n",
      "Epoch 7/15\n",
      "3416/3416 [==============================] - 177s 52ms/step - loss: 7.7663 - accuracy: 0.9613 - val_loss: 34.2001 - val_accuracy: 0.8917\n",
      "Epoch 8/15\n",
      "3416/3416 [==============================] - 177s 52ms/step - loss: 6.5455 - accuracy: 0.9672 - val_loss: 38.8368 - val_accuracy: 0.9045\n",
      "Epoch 9/15\n",
      "3416/3416 [==============================] - 180s 53ms/step - loss: 5.5795 - accuracy: 0.9725 - val_loss: 37.0644 - val_accuracy: 0.9035\n",
      "Epoch 10/15\n",
      "3416/3416 [==============================] - 178s 52ms/step - loss: 5.1875 - accuracy: 0.9735 - val_loss: 39.4223 - val_accuracy: 0.8976\n",
      "Epoch 11/15\n",
      "3416/3416 [==============================] - 181s 53ms/step - loss: 4.4606 - accuracy: 0.9780 - val_loss: 33.9375 - val_accuracy: 0.9152\n",
      "Epoch 12/15\n",
      "3416/3416 [==============================] - 178s 52ms/step - loss: 3.7865 - accuracy: 0.9800 - val_loss: 41.8082 - val_accuracy: 0.8933\n",
      "Epoch 13/15\n",
      "3416/3416 [==============================] - 182s 53ms/step - loss: 4.0622 - accuracy: 0.9804 - val_loss: 46.6792 - val_accuracy: 0.8944\n",
      "Epoch 14/15\n",
      "3416/3416 [==============================] - 175s 51ms/step - loss: 3.7044 - accuracy: 0.9827 - val_loss: 40.9583 - val_accuracy: 0.9045\n",
      "Epoch 15/15\n",
      "3416/3416 [==============================] - 176s 51ms/step - loss: 3.2195 - accuracy: 0.9843 - val_loss: 42.9351 - val_accuracy: 0.8992\n"
     ]
    }
   ],
   "source": [
    "history_VGG = Fit_automatic(model_total, train = train_image,\n",
    "                            epochs = 15,\n",
    "                            batch = 64,\n",
    "                            test = valid_image,\n",
    "                            pat = 15\n",
    "                            )\n",
    "history_VGG.to_csv(\"Output - VGG 0.4Dout - BNorm.csv\")"
   ]
  },
  {
   "cell_type": "code",
   "execution_count": 16,
   "id": "2dfef2fe",
   "metadata": {
    "execution": {
     "iopub.execute_input": "2022-02-12T23:10:38.447687Z",
     "iopub.status.busy": "2022-02-12T23:10:38.446720Z",
     "iopub.status.idle": "2022-02-12T23:10:38.448417Z",
     "shell.execute_reply": "2022-02-12T23:10:38.448916Z"
    },
    "papermill": {
     "duration": 8.825483,
     "end_time": "2022-02-12T23:10:38.449058",
     "exception": false,
     "start_time": "2022-02-12T23:10:29.623575",
     "status": "completed"
    },
    "tags": []
   },
   "outputs": [],
   "source": [
    "# fig = plt.figure(figsize=(20,15))\n",
    "# gs = fig.add_gridspec(4, 4)\n",
    "# #\n",
    "# for row in range(0, 3):\n",
    "#     for col in range(0, 3):\n",
    "#         image, label = train_generator_vgg.next()\n",
    "#         label_id = list(label[0]).index(1)\n",
    "#         label_str = list(train_generator_vgg.class_indices.keys())[list(train_generator_vgg.class_indices.values()).index(label_id)]\n",
    "#         ax = fig.add_subplot(gs[row, col])\n",
    "#         ax.axis('off');\n",
    "#         ax.set_title(label_str, fontdict={\"fontweight\": 700})\n",
    "#         ax.imshow(image[0].astype('uint8'));\n",
    "        "
   ]
  },
  {
   "cell_type": "code",
   "execution_count": 17,
   "id": "b7c055d2",
   "metadata": {
    "execution": {
     "iopub.execute_input": "2022-02-12T23:10:56.592707Z",
     "iopub.status.busy": "2022-02-12T23:10:56.591790Z",
     "iopub.status.idle": "2022-02-12T23:11:02.084193Z",
     "shell.execute_reply": "2022-02-12T23:11:02.085002Z",
     "shell.execute_reply.started": "2022-02-12T15:07:18.651393Z"
    },
    "papermill": {
     "duration": 14.744398,
     "end_time": "2022-02-12T23:11:02.085285",
     "exception": false,
     "start_time": "2022-02-12T23:10:47.340887",
     "status": "completed"
    },
    "tags": []
   },
   "outputs": [
    {
     "name": "stdout",
     "output_type": "stream",
     "text": [
      "Downloading data from https://storage.googleapis.com/keras-applications/efficientnetb4_notop.h5\n",
      "71688192/71686520 [==============================] - 1s 0us/step\n",
      "71696384/71686520 [==============================] - 1s 0us/step\n",
      "Model: \"sequential_1\"\n",
      "_________________________________________________________________\n",
      "Layer (type)                 Output Shape              Param #   \n",
      "=================================================================\n",
      "efficientnetb4 (Functional)  (None, 7, 7, 1792)        17673823  \n",
      "_________________________________________________________________\n",
      "flatten_1 (Flatten)          (None, 87808)             0         \n",
      "_________________________________________________________________\n",
      "batch_normalization_1 (Batch (None, 87808)             351232    \n",
      "_________________________________________________________________\n",
      "dropout_1 (Dropout)          (None, 87808)             0         \n",
      "_________________________________________________________________\n",
      "dense_3 (Dense)              (None, 375)               32928375  \n",
      "=================================================================\n",
      "Total params: 50,953,430\n",
      "Trainable params: 33,103,991\n",
      "Non-trainable params: 17,849,439\n",
      "_________________________________________________________________\n"
     ]
    }
   ],
   "source": [
    "from tensorflow.keras.applications.efficientnet import EfficientNetB4 \n",
    "\n",
    "model_ENet = EfficientNetB4(include_top=False, weights='imagenet', input_shape=(224, 224, 3))\n",
    "model_ENet.trainable = False\n",
    "\n",
    "#model_ENet.summary()\n",
    "flattening_layer = layers.Flatten()\n",
    "bnor_layer2 = layers.BatchNormalization()\n",
    "dout_layer = layers.Dropout(0.4)\n",
    "dense_layer_1 = layers.Dense(4096)\n",
    "dense_layer_2 = layers.Dense(4096)\n",
    "last_layer = layers.Dense(375, activation='softmax')\n",
    "\n",
    "model_total_ENet = Sequential([model_ENet, flattening_layer, bnor_layer2, dout_layer, last_layer])\n",
    "model_total_ENet.summary()\n",
    "\n",
    "model_total_ENet.compile(optimizer='adam',\n",
    "                  loss='categorical_crossentropy',\n",
    "                  metrics=\"accuracy\")"
   ]
  },
  {
   "cell_type": "code",
   "execution_count": 18,
   "id": "7129718d",
   "metadata": {
    "execution": {
     "iopub.execute_input": "2022-02-12T23:11:20.006576Z",
     "iopub.status.busy": "2022-02-12T23:11:20.005614Z",
     "iopub.status.idle": "2022-02-13T00:09:06.901966Z",
     "shell.execute_reply": "2022-02-13T00:09:06.901470Z",
     "shell.execute_reply.started": "2022-02-12T15:07:50.024145Z"
    },
    "papermill": {
     "duration": 3475.862605,
     "end_time": "2022-02-13T00:09:06.902099",
     "exception": false,
     "start_time": "2022-02-12T23:11:11.039494",
     "status": "completed"
    },
    "tags": []
   },
   "outputs": [
    {
     "name": "stdout",
     "output_type": "stream",
     "text": [
      "Epoch 1/15\n",
      "3416/3416 [==============================] - 237s 67ms/step - loss: 20.3562 - accuracy: 0.5776 - val_loss: 7.9975 - val_accuracy: 0.8347\n",
      "Epoch 2/15\n",
      "3416/3416 [==============================] - 231s 68ms/step - loss: 7.1275 - accuracy: 0.8573 - val_loss: 8.7202 - val_accuracy: 0.8464\n",
      "Epoch 3/15\n",
      "3416/3416 [==============================] - 225s 66ms/step - loss: 5.3095 - accuracy: 0.8976 - val_loss: 8.7717 - val_accuracy: 0.8736\n",
      "Epoch 4/15\n",
      "3416/3416 [==============================] - 225s 66ms/step - loss: 4.1258 - accuracy: 0.9229 - val_loss: 8.6091 - val_accuracy: 0.8784\n",
      "Epoch 5/15\n",
      "3416/3416 [==============================] - 234s 68ms/step - loss: 3.3271 - accuracy: 0.9378 - val_loss: 8.9278 - val_accuracy: 0.8811\n",
      "Epoch 6/15\n",
      "3416/3416 [==============================] - 223s 65ms/step - loss: 2.6788 - accuracy: 0.9501 - val_loss: 8.7686 - val_accuracy: 0.8955\n",
      "Epoch 7/15\n",
      "3416/3416 [==============================] - 223s 65ms/step - loss: 2.3099 - accuracy: 0.9591 - val_loss: 10.1676 - val_accuracy: 0.8891\n",
      "Epoch 8/15\n",
      "3416/3416 [==============================] - 228s 67ms/step - loss: 2.0857 - accuracy: 0.9622 - val_loss: 10.1438 - val_accuracy: 0.8960\n",
      "Epoch 9/15\n",
      "3416/3416 [==============================] - 228s 67ms/step - loss: 1.7768 - accuracy: 0.9666 - val_loss: 9.7801 - val_accuracy: 0.8981\n",
      "Epoch 10/15\n",
      "3416/3416 [==============================] - 230s 67ms/step - loss: 1.6721 - accuracy: 0.9708 - val_loss: 7.9836 - val_accuracy: 0.9099\n",
      "Epoch 11/15\n",
      "3416/3416 [==============================] - 230s 67ms/step - loss: 1.5513 - accuracy: 0.9733 - val_loss: 9.1705 - val_accuracy: 0.9093\n",
      "Epoch 12/15\n",
      "3416/3416 [==============================] - 218s 64ms/step - loss: 1.3003 - accuracy: 0.9764 - val_loss: 10.0147 - val_accuracy: 0.8955\n",
      "Epoch 13/15\n",
      "3416/3416 [==============================] - 232s 68ms/step - loss: 1.3486 - accuracy: 0.9768 - val_loss: 9.0508 - val_accuracy: 0.9109\n",
      "Epoch 14/15\n",
      "3416/3416 [==============================] - 231s 68ms/step - loss: 1.1093 - accuracy: 0.9797 - val_loss: 9.1366 - val_accuracy: 0.9099\n",
      "Epoch 15/15\n",
      "3416/3416 [==============================] - 232s 68ms/step - loss: 1.1547 - accuracy: 0.9794 - val_loss: 9.2560 - val_accuracy: 0.9157\n"
     ]
    },
    {
     "name": "stderr",
     "output_type": "stream",
     "text": [
      "/opt/conda/lib/python3.7/site-packages/keras/utils/generic_utils.py:497: CustomMaskWarning: Custom mask layers require a config and must override get_config. When loading, the custom mask layer must be passed to the custom_objects argument.\n",
      "  category=CustomMaskWarning)\n"
     ]
    }
   ],
   "source": [
    "history_ENet = Fit_automatic(model_total_ENet, train = train_image,\n",
    "                            epochs=15,\n",
    "                            batch = 256,\n",
    "                            test=valid_image,\n",
    "                            pat = 15, mindelta = 0.01\n",
    "                            )\n",
    "history_ENet.to_csv(\"Output - preprocessing ENet - Dout 0.4  - 4096 x 2 -  0.6Dout.csv\")\n",
    "model_total_ENet.save('model_total_ENet.h5')"
   ]
  },
  {
   "cell_type": "code",
   "execution_count": 19,
   "id": "f4edc1df",
   "metadata": {
    "execution": {
     "iopub.execute_input": "2022-02-13T00:09:53.012929Z",
     "iopub.status.busy": "2022-02-13T00:09:53.012034Z",
     "iopub.status.idle": "2022-02-13T00:59:15.233192Z",
     "shell.execute_reply": "2022-02-13T00:59:15.234555Z",
     "shell.execute_reply.started": "2022-02-12T15:09:28.227416Z"
    },
    "papermill": {
     "duration": 2984.933494,
     "end_time": "2022-02-13T00:59:15.234819",
     "exception": false,
     "start_time": "2022-02-13T00:09:30.301325",
     "status": "completed"
    },
    "tags": []
   },
   "outputs": [
    {
     "name": "stdout",
     "output_type": "stream",
     "text": [
      "Model: \"sequential_2\"\n",
      "_________________________________________________________________\n",
      "Layer (type)                 Output Shape              Param #   \n",
      "=================================================================\n",
      "vgg16 (Functional)           (None, 7, 7, 512)         14714688  \n",
      "_________________________________________________________________\n",
      "flatten_1 (Flatten)          multiple                  0         \n",
      "_________________________________________________________________\n",
      "dropout_1 (Dropout)          multiple                  0         \n",
      "_________________________________________________________________\n",
      "dense_4 (Dense)              (None, 4096)              102764544 \n",
      "_________________________________________________________________\n",
      "dense_5 (Dense)              (None, 4096)              16781312  \n",
      "_________________________________________________________________\n",
      "dense_6 (Dense)              (None, 375)               1536375   \n",
      "=================================================================\n",
      "Total params: 135,796,919\n",
      "Trainable params: 121,082,231\n",
      "Non-trainable params: 14,714,688\n",
      "_________________________________________________________________\n",
      "Epoch 1/15\n",
      "3416/3416 [==============================] - 187s 55ms/step - loss: 14173.5469 - accuracy: 0.3636 - val_loss: 11072.6084 - val_accuracy: 0.6635\n",
      "Epoch 2/15\n",
      "3416/3416 [==============================] - 196s 57ms/step - loss: 19482.4453 - accuracy: 0.6286 - val_loss: 13687.3555 - val_accuracy: 0.7648\n",
      "Epoch 3/15\n",
      "3416/3416 [==============================] - 201s 59ms/step - loss: 21107.7930 - accuracy: 0.7285 - val_loss: 14355.0791 - val_accuracy: 0.8208\n",
      "Epoch 4/15\n",
      "3416/3416 [==============================] - 189s 55ms/step - loss: 22430.3750 - accuracy: 0.7899 - val_loss: 23897.8008 - val_accuracy: 0.8256\n",
      "Epoch 5/15\n",
      "3416/3416 [==============================] - 202s 59ms/step - loss: 23758.1465 - accuracy: 0.8243 - val_loss: 29475.5000 - val_accuracy: 0.8459\n",
      "Epoch 6/15\n",
      "3416/3416 [==============================] - 204s 60ms/step - loss: 24279.9219 - accuracy: 0.8546 - val_loss: 28230.1406 - val_accuracy: 0.8688\n",
      "Epoch 7/15\n",
      "3416/3416 [==============================] - 188s 55ms/step - loss: 24860.4824 - accuracy: 0.8757 - val_loss: 36635.5508 - val_accuracy: 0.8741\n",
      "Epoch 8/15\n",
      "3416/3416 [==============================] - 203s 59ms/step - loss: 25899.2168 - accuracy: 0.8897 - val_loss: 46442.3633 - val_accuracy: 0.8693\n",
      "Epoch 9/15\n",
      "3416/3416 [==============================] - 198s 58ms/step - loss: 26178.4297 - accuracy: 0.9034 - val_loss: 45541.7812 - val_accuracy: 0.8784\n",
      "Epoch 10/15\n",
      "3416/3416 [==============================] - 186s 54ms/step - loss: 26718.9570 - accuracy: 0.9130 - val_loss: 53022.0000 - val_accuracy: 0.8885\n",
      "Epoch 11/15\n",
      "3416/3416 [==============================] - 204s 60ms/step - loss: 26787.9941 - accuracy: 0.9228 - val_loss: 56037.9688 - val_accuracy: 0.8987\n",
      "Epoch 12/15\n",
      "3416/3416 [==============================] - 186s 54ms/step - loss: 27641.6367 - accuracy: 0.9295 - val_loss: 74938.5312 - val_accuracy: 0.8880\n",
      "Epoch 13/15\n",
      "3416/3416 [==============================] - 187s 55ms/step - loss: 28222.5312 - accuracy: 0.9345 - val_loss: 71160.8281 - val_accuracy: 0.8912\n",
      "Epoch 14/15\n",
      "3416/3416 [==============================] - 205s 60ms/step - loss: 29045.9121 - accuracy: 0.9392 - val_loss: 74732.7891 - val_accuracy: 0.9013\n",
      "Epoch 15/15\n",
      "3416/3416 [==============================] - 186s 54ms/step - loss: 29662.1094 - accuracy: 0.9437 - val_loss: 85003.8359 - val_accuracy: 0.9019\n"
     ]
    }
   ],
   "source": [
    "dense_layer_1_vgg = layers.Dense(4096)\n",
    "dense_layer_2_vgg = layers.Dense(4096)\n",
    "last_layer = layers.Dense(375, activation='softmax')\n",
    "\n",
    "\n",
    "model_total_2 = Sequential([model_VGG, flattening_layer, dout_layer, dense_layer_1_vgg,  dense_layer_2_vgg, last_layer])\n",
    "\n",
    "model_total_2.summary()\n",
    "\n",
    "model_total_2.compile(optimizer='adam',\n",
    "                  loss='categorical_crossentropy',\n",
    "                  metrics=\"accuracy\")\n",
    "\n",
    "history_VGG = Fit_automatic(model_total_2, train = train_image,\n",
    "                            epochs = 15,\n",
    "                            batch = 64,\n",
    "                            test = valid_image,\n",
    "                            pat = 15\n",
    "                            )\n",
    "history_VGG.to_csv(\"Output - VGG flat-  dout 04 - 4096 x 2.csv\")\n",
    "model_total_2.save('modeltotal2.h5')"
   ]
  },
  {
   "cell_type": "code",
   "execution_count": 20,
   "id": "21662870",
   "metadata": {
    "execution": {
     "iopub.execute_input": "2022-02-13T01:00:26.477268Z",
     "iopub.status.busy": "2022-02-13T01:00:26.472754Z",
     "iopub.status.idle": "2022-02-13T01:58:12.235454Z",
     "shell.execute_reply": "2022-02-13T01:58:12.235911Z"
    },
    "papermill": {
     "duration": 3500.817179,
     "end_time": "2022-02-13T01:58:12.236078",
     "exception": false,
     "start_time": "2022-02-13T00:59:51.418899",
     "status": "completed"
    },
    "tags": []
   },
   "outputs": [
    {
     "name": "stdout",
     "output_type": "stream",
     "text": [
      "Model: \"sequential_3\"\n",
      "_________________________________________________________________\n",
      "Layer (type)                 Output Shape              Param #   \n",
      "=================================================================\n",
      "efficientnetb4 (Functional)  (None, 7, 7, 1792)        17673823  \n",
      "_________________________________________________________________\n",
      "flatten_1 (Flatten)          multiple                  0         \n",
      "_________________________________________________________________\n",
      "dropout_1 (Dropout)          multiple                  0         \n",
      "_________________________________________________________________\n",
      "dense_7 (Dense)              (None, 4096)              359665664 \n",
      "_________________________________________________________________\n",
      "dense_8 (Dense)              (None, 4096)              16781312  \n",
      "_________________________________________________________________\n",
      "dense_9 (Dense)              (None, 375)               1536375   \n",
      "=================================================================\n",
      "Total params: 395,657,174\n",
      "Trainable params: 377,983,351\n",
      "Non-trainable params: 17,673,823\n",
      "_________________________________________________________________\n",
      "Epoch 1/15\n",
      "3416/3416 [==============================] - 219s 64ms/step - loss: 1.0768 - accuracy: 0.9813 - val_loss: 9.5818 - val_accuracy: 0.9093\n",
      "Epoch 2/15\n",
      "3416/3416 [==============================] - 218s 64ms/step - loss: 1.0230 - accuracy: 0.9828 - val_loss: 8.7644 - val_accuracy: 0.9157\n",
      "Epoch 3/15\n",
      "3416/3416 [==============================] - 242s 71ms/step - loss: 0.9089 - accuracy: 0.9834 - val_loss: 8.7582 - val_accuracy: 0.9195\n",
      "Epoch 4/15\n",
      "3416/3416 [==============================] - 217s 64ms/step - loss: 0.8487 - accuracy: 0.9852 - val_loss: 9.5323 - val_accuracy: 0.9147\n",
      "Epoch 5/15\n",
      "3416/3416 [==============================] - 242s 71ms/step - loss: 0.8801 - accuracy: 0.9849 - val_loss: 8.7770 - val_accuracy: 0.9136\n",
      "Epoch 6/15\n",
      "3416/3416 [==============================] - 217s 63ms/step - loss: 0.8449 - accuracy: 0.9858 - val_loss: 9.3390 - val_accuracy: 0.9248\n",
      "Epoch 7/15\n",
      "3416/3416 [==============================] - 218s 64ms/step - loss: 0.7525 - accuracy: 0.9866 - val_loss: 9.0880 - val_accuracy: 0.9216\n",
      "Epoch 8/15\n",
      "3416/3416 [==============================] - 244s 71ms/step - loss: 0.7565 - accuracy: 0.9874 - val_loss: 8.4597 - val_accuracy: 0.9205\n",
      "Epoch 9/15\n",
      "3416/3416 [==============================] - 218s 64ms/step - loss: 0.8091 - accuracy: 0.9865 - val_loss: 9.1192 - val_accuracy: 0.9189\n",
      "Epoch 10/15\n",
      "3416/3416 [==============================] - 240s 70ms/step - loss: 0.7342 - accuracy: 0.9882 - val_loss: 8.9655 - val_accuracy: 0.9264\n",
      "Epoch 11/15\n",
      "3416/3416 [==============================] - 223s 65ms/step - loss: 0.6758 - accuracy: 0.9895 - val_loss: 9.3150 - val_accuracy: 0.9152\n",
      "Epoch 12/15\n",
      "3416/3416 [==============================] - 218s 64ms/step - loss: 0.6430 - accuracy: 0.9889 - val_loss: 8.7423 - val_accuracy: 0.9211\n",
      "Epoch 13/15\n",
      "3416/3416 [==============================] - 247s 72ms/step - loss: 0.6221 - accuracy: 0.9900 - val_loss: 9.9630 - val_accuracy: 0.9237\n",
      "Epoch 14/15\n",
      "3416/3416 [==============================] - 217s 64ms/step - loss: 0.5835 - accuracy: 0.9897 - val_loss: 10.2274 - val_accuracy: 0.9168\n",
      "Epoch 15/15\n",
      "3416/3416 [==============================] - 236s 69ms/step - loss: 0.5303 - accuracy: 0.9910 - val_loss: 10.0324 - val_accuracy: 0.9152\n"
     ]
    },
    {
     "name": "stderr",
     "output_type": "stream",
     "text": [
      "2022-02-13 01:58:06.857157: W tensorflow/core/framework/cpu_allocator_impl.cc:80] Allocation of 1438646272 exceeds 10% of free system memory.\n"
     ]
    }
   ],
   "source": [
    "dense_layer_1 = layers.Dense(4096)\n",
    "dense_layer_2 = layers.Dense(4096)\n",
    "last_layer = layers.Dense(375, activation='softmax')\n",
    "\n",
    "model_total_ENet_2 = Sequential([model_ENet, flattening_layer,  dout_layer, dense_layer_1, dense_layer_2, last_layer])\n",
    "model_total_ENet_2.summary()\n",
    "\n",
    "model_total_ENet_2.compile(optimizer='adam',\n",
    "                  loss='categorical_crossentropy',\n",
    "                  metrics=\"accuracy\")\n",
    "\n",
    "history_ENet = Fit_automatic(model_total_ENet, train = train_image,\n",
    "                            epochs=15,\n",
    "                            batch = 64,\n",
    "                            test=valid_image,\n",
    "                            pat = 15, mindelta = 0.01\n",
    "                            )\n",
    "history_ENet.to_csv(\"Output - preprocessing ENet - Dout 0.4  - 4096 x 2 -  0.6Dout.csv\")\n",
    "model_total_ENet_2.save(\"model_total_ENet_2.h5\")"
   ]
  },
  {
   "cell_type": "markdown",
   "id": "e07e651f",
   "metadata": {
    "papermill": {
     "duration": 49.652285,
     "end_time": "2022-02-13T01:59:51.486001",
     "exception": false,
     "start_time": "2022-02-13T01:59:01.833716",
     "status": "completed"
    },
    "tags": []
   },
   "source": [
    "## Try to use the TPUs\n"
   ]
  },
  {
   "cell_type": "code",
   "execution_count": null,
   "id": "b44796c5",
   "metadata": {
    "papermill": {
     "duration": 49.834215,
     "end_time": "2022-02-13T02:01:30.095868",
     "exception": false,
     "start_time": "2022-02-13T02:00:40.261653",
     "status": "completed"
    },
    "tags": []
   },
   "outputs": [],
   "source": []
  },
  {
   "cell_type": "code",
   "execution_count": null,
   "id": "f01dcd46",
   "metadata": {
    "papermill": {
     "duration": 49.775226,
     "end_time": "2022-02-13T02:03:08.846619",
     "exception": false,
     "start_time": "2022-02-13T02:02:19.071393",
     "status": "completed"
    },
    "tags": []
   },
   "outputs": [],
   "source": []
  }
 ],
 "metadata": {
  "kernelspec": {
   "display_name": "Python 3",
   "language": "python",
   "name": "python3"
  },
  "language_info": {
   "codemirror_mode": {
    "name": "ipython",
    "version": 3
   },
   "file_extension": ".py",
   "mimetype": "text/x-python",
   "name": "python",
   "nbconvert_exporter": "python",
   "pygments_lexer": "ipython3",
   "version": "3.7.12"
  },
  "papermill": {
   "default_parameters": {},
   "duration": 13432.927679,
   "end_time": "2022-02-13T02:04:00.755212",
   "environment_variables": {},
   "exception": null,
   "input_path": "__notebook__.ipynb",
   "output_path": "__notebook__.ipynb",
   "parameters": {},
   "start_time": "2022-02-12T22:20:07.827533",
   "version": "2.3.3"
  }
 },
 "nbformat": 4,
 "nbformat_minor": 5
}
